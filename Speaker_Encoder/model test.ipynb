{
 "cells": [
  {
   "cell_type": "code",
   "execution_count": 1,
   "id": "0b8b01d4",
   "metadata": {},
   "outputs": [],
   "source": [
    "import torch\n",
    "from StackedAE import Convolution_Auto_Encoder\n",
    "\n",
    "x = torch.rand(16,1,80, 300)\n",
    "model=Convolution_Auto_Encoder(1,3,5)\n",
    "y=model.forward(x)"
   ]
  },
  {
   "cell_type": "code",
   "execution_count": 2,
   "id": "6057cf2d",
   "metadata": {},
   "outputs": [
    {
     "name": "stdout",
     "output_type": "stream",
     "text": [
      "torch.Size([16, 1, 80, 300])\n"
     ]
    }
   ],
   "source": [
    "print(y.size())"
   ]
  },
  {
   "cell_type": "code",
   "execution_count": null,
   "id": "a7ee702c",
   "metadata": {},
   "outputs": [],
   "source": []
  }
 ],
 "metadata": {
  "kernelspec": {
   "display_name": "Python 3 (ipykernel)",
   "language": "python",
   "name": "python3"
  },
  "language_info": {
   "codemirror_mode": {
    "name": "ipython",
    "version": 3
   },
   "file_extension": ".py",
   "mimetype": "text/x-python",
   "name": "python",
   "nbconvert_exporter": "python",
   "pygments_lexer": "ipython3",
   "version": "3.7.13"
  }
 },
 "nbformat": 4,
 "nbformat_minor": 5
}
